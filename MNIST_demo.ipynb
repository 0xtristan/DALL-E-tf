{
  "nbformat": 4,
  "nbformat_minor": 0,
  "metadata": {
    "colab": {
      "name": "MNIST_demo.ipynb",
      "provenance": [],
      "collapsed_sections": [],
      "authorship_tag": "ABX9TyPsBhRtR1wTLXbFyV7vwVLL",
      "include_colab_link": true
    },
    "kernelspec": {
      "name": "python3",
      "display_name": "Python 3"
    },
    "accelerator": "GPU"
  },
  "cells": [
    {
      "cell_type": "markdown",
      "metadata": {
        "id": "view-in-github",
        "colab_type": "text"
      },
      "source": [
        "<a href=\"https://colab.research.google.com/github/tfrizza/DALL-E-tf/blob/main/MNIST_demo.ipynb\" target=\"_parent\"><img src=\"https://colab.research.google.com/assets/colab-badge.svg\" alt=\"Open In Colab\"/></a>"
      ]
    },
    {
      "cell_type": "code",
      "metadata": {
        "colab": {
          "base_uri": "https://localhost:8080/"
        },
        "id": "REUXOG_8HcnI",
        "outputId": "18235251-163e-4fb3-e629-21c6bf432ed4"
      },
      "source": [
        "!git clone https://github.com/tfrizza/DALL-E-tf.git"
      ],
      "execution_count": 1,
      "outputs": [
        {
          "output_type": "stream",
          "text": [
            "Cloning into 'DALL-E-tf'...\n",
            "remote: Enumerating objects: 54, done.\u001b[K\n",
            "remote: Counting objects: 100% (54/54), done.\u001b[K\n",
            "remote: Compressing objects: 100% (39/39), done.\u001b[K\n",
            "remote: Total 54 (delta 28), reused 30 (delta 13), pack-reused 0\u001b[K\n",
            "Unpacking objects: 100% (54/54), done.\n"
          ],
          "name": "stdout"
        }
      ]
    },
    {
      "cell_type": "code",
      "metadata": {
        "colab": {
          "base_uri": "https://localhost:8080/"
        },
        "id": "v1zzTQFoHpXQ",
        "outputId": "d2b21e3a-c036-4253-dad2-f6dfea27126e"
      },
      "source": [
        "%cd DALL-E-tf"
      ],
      "execution_count": 2,
      "outputs": [
        {
          "output_type": "stream",
          "text": [
            "/content/DALL-E-tf\n"
          ],
          "name": "stdout"
        }
      ]
    },
    {
      "cell_type": "code",
      "metadata": {
        "colab": {
          "base_uri": "https://localhost:8080/"
        },
        "id": "pM7fOhafHJxA",
        "outputId": "a183c466-a72c-4640-c7d9-3c0fbcfed6ca"
      },
      "source": [
        "import tensorflow as tf\n",
        "from tensorflow.keras import Model, mixed_precision\n",
        "\n",
        "import tensorflow_probability as tfp\n",
        "from tensorflow_probability import distributions as tfd\n",
        "from tensorflow_probability import layers as tfpl\n",
        "\n",
        "from dall_e_tf.encoder import dvae_encoder\n",
        "from dall_e_tf.decoder import dvae_decoder\n",
        "from dall_e_tf.utils import plot_reconstructions\n",
        "\n",
        "mixed_precision.set_global_policy('mixed_float16')\n",
        "\n",
        "(x_train, _), (x_test, _) = tf.keras.datasets.mnist.load_data()\n",
        "\n",
        "# Scale images to the [0, 1] range\n",
        "x_train = x_train.astype(\"float32\") / 255\n",
        "x_test = x_test.astype(\"float32\") / 255\n",
        "# Make sure images have shape (28, 28, 1)\n",
        "x_train = tf.expand_dims(x_train, -1)\n",
        "x_test = tf.expand_dims(x_test, -1)\n",
        "print(\"x_train shape:\", x_train.shape)\n",
        "print(x_train.shape[0], \"train samples\")\n",
        "print(x_test.shape[0], \"test samples\")"
      ],
      "execution_count": 3,
      "outputs": [
        {
          "output_type": "stream",
          "text": [
            "INFO:tensorflow:Mixed precision compatibility check (mixed_float16): OK\n",
            "Your GPU will likely run quickly with dtype policy mixed_float16 as it has compute capability of at least 7.0. Your GPU: Tesla V100-SXM2-16GB, compute capability 7.0\n",
            "Downloading data from https://storage.googleapis.com/tensorflow/tf-keras-datasets/mnist.npz\n",
            "11493376/11490434 [==============================] - 0s 0us/step\n",
            "x_train shape: (60000, 28, 28, 1)\n",
            "60000 train samples\n",
            "10000 test samples\n"
          ],
          "name": "stdout"
        }
      ]
    },
    {
      "cell_type": "code",
      "metadata": {
        "colab": {
          "base_uri": "https://localhost:8080/"
        },
        "id": "iQJDxNXwHUrV",
        "outputId": "ff7c4b1e-f335-40b4-aaae-e8d82dae7d80"
      },
      "source": [
        "vocab_size = 32\n",
        "n_hid = 32\n",
        "\n",
        "enc = dvae_encoder(img_size=28, group_count=3, n_hid=n_hid, n_blk_per_group=2, input_channels=x_train.shape[-1], vocab_size=vocab_size)\n",
        "dec = dvae_decoder(img_size=7, group_count=3, n_init=n_hid//2, n_hid=n_hid, n_blk_per_group=2, output_channels=x_train.shape[-1], vocab_size=vocab_size)\n",
        "\n",
        "def dVAE(enc, dec, temperature=1/16):\n",
        "    z_e = enc.output # encoder logits\n",
        "\n",
        "    z_q = tfpl.DistributionLambda(\n",
        "        lambda logits: tfd.RelaxedOneHotCategorical(temperature, logits) # Gumbel-softmax\n",
        "    )(z_e)\n",
        "\n",
        "    z_hard = tf.math.argmax(z_e, axis=-1) # non-differentiable\n",
        "    z_hard = tf.one_hot(z_hard, enc.output.shape[-1], dtype=tf.float16)\n",
        "\n",
        "    z = z_q + tf.stop_gradient(z_hard - z_q) # straight-through Gumbel-softmax\n",
        "    x_rec = dec(z)\n",
        "    return Model(enc.input, x_rec)\n",
        "\n",
        "vae = dVAE(enc, dec, 0.1)\n",
        "vae.summary(line_length=200)"
      ],
      "execution_count": 4,
      "outputs": [
        {
          "output_type": "stream",
          "text": [
            "Model: \"model_2\"\n",
            "________________________________________________________________________________________________________________________________________________________________________________________________________\n",
            "Layer (type)                                                      Output Shape                                Param #                 Connected to                                                      \n",
            "========================================================================================================================================================================================================\n",
            "input_1 (InputLayer)                                              [(None, 28, 28, 1)]                         0                                                                                         \n",
            "________________________________________________________________________________________________________________________________________________________________________________________________________\n",
            "conv2d (Conv2D)                                                   (None, 28, 28, 32)                          1600                    input_1[0][0]                                                     \n",
            "________________________________________________________________________________________________________________________________________________________________________________________________________\n",
            "tf.nn.relu (TFOpLambda)                                           (None, 28, 28, 32)                          0                       conv2d[0][0]                                                      \n",
            "________________________________________________________________________________________________________________________________________________________________________________________________________\n",
            "conv2d_1 (Conv2D)                                                 (None, 28, 28, 8)                           2312                    tf.nn.relu[0][0]                                                  \n",
            "________________________________________________________________________________________________________________________________________________________________________________________________________\n",
            "conv2d_2 (Conv2D)                                                 (None, 28, 28, 8)                           584                     conv2d_1[0][0]                                                    \n",
            "________________________________________________________________________________________________________________________________________________________________________________________________________\n",
            "conv2d_3 (Conv2D)                                                 (None, 28, 28, 8)                           584                     conv2d_2[0][0]                                                    \n",
            "________________________________________________________________________________________________________________________________________________________________________________________________________\n",
            "conv2d_4 (Conv2D)                                                 (None, 28, 28, 32)                          288                     conv2d_3[0][0]                                                    \n",
            "________________________________________________________________________________________________________________________________________________________________________________________________________\n",
            "tf.identity (TFOpLambda)                                          (None, 28, 28, 32)                          0                       conv2d[0][0]                                                      \n",
            "________________________________________________________________________________________________________________________________________________________________________________________________________\n",
            "tf.math.multiply (TFOpLambda)                                     (None, 28, 28, 32)                          0                       conv2d_4[0][0]                                                    \n",
            "________________________________________________________________________________________________________________________________________________________________________________________________________\n",
            "tf.__operators__.add (TFOpLambda)                                 (None, 28, 28, 32)                          0                       tf.identity[0][0]                                                 \n",
            "                                                                                                                                      tf.math.multiply[0][0]                                            \n",
            "________________________________________________________________________________________________________________________________________________________________________________________________________\n",
            "tf.nn.relu_1 (TFOpLambda)                                         (None, 28, 28, 32)                          0                       tf.__operators__.add[0][0]                                        \n",
            "________________________________________________________________________________________________________________________________________________________________________________________________________\n",
            "conv2d_5 (Conv2D)                                                 (None, 28, 28, 8)                           2312                    tf.nn.relu_1[0][0]                                                \n",
            "________________________________________________________________________________________________________________________________________________________________________________________________________\n",
            "conv2d_6 (Conv2D)                                                 (None, 28, 28, 8)                           584                     conv2d_5[0][0]                                                    \n",
            "________________________________________________________________________________________________________________________________________________________________________________________________________\n",
            "conv2d_7 (Conv2D)                                                 (None, 28, 28, 8)                           584                     conv2d_6[0][0]                                                    \n",
            "________________________________________________________________________________________________________________________________________________________________________________________________________\n",
            "conv2d_8 (Conv2D)                                                 (None, 28, 28, 32)                          288                     conv2d_7[0][0]                                                    \n",
            "________________________________________________________________________________________________________________________________________________________________________________________________________\n",
            "tf.identity_1 (TFOpLambda)                                        (None, 28, 28, 32)                          0                       tf.__operators__.add[0][0]                                        \n",
            "________________________________________________________________________________________________________________________________________________________________________________________________________\n",
            "tf.math.multiply_1 (TFOpLambda)                                   (None, 28, 28, 32)                          0                       conv2d_8[0][0]                                                    \n",
            "________________________________________________________________________________________________________________________________________________________________________________________________________\n",
            "tf.__operators__.add_1 (TFOpLambda)                               (None, 28, 28, 32)                          0                       tf.identity_1[0][0]                                               \n",
            "                                                                                                                                      tf.math.multiply_1[0][0]                                          \n",
            "________________________________________________________________________________________________________________________________________________________________________________________________________\n",
            "max_pooling2d (MaxPooling2D)                                      (None, 14, 14, 32)                          0                       tf.__operators__.add_1[0][0]                                      \n",
            "________________________________________________________________________________________________________________________________________________________________________________________________________\n",
            "tf.nn.relu_2 (TFOpLambda)                                         (None, 14, 14, 32)                          0                       max_pooling2d[0][0]                                               \n",
            "________________________________________________________________________________________________________________________________________________________________________________________________________\n",
            "conv2d_10 (Conv2D)                                                (None, 14, 14, 16)                          4624                    tf.nn.relu_2[0][0]                                                \n",
            "________________________________________________________________________________________________________________________________________________________________________________________________________\n",
            "conv2d_11 (Conv2D)                                                (None, 14, 14, 16)                          2320                    conv2d_10[0][0]                                                   \n",
            "________________________________________________________________________________________________________________________________________________________________________________________________________\n",
            "conv2d_12 (Conv2D)                                                (None, 14, 14, 16)                          2320                    conv2d_11[0][0]                                                   \n",
            "________________________________________________________________________________________________________________________________________________________________________________________________________\n",
            "conv2d_13 (Conv2D)                                                (None, 14, 14, 64)                          1088                    conv2d_12[0][0]                                                   \n",
            "________________________________________________________________________________________________________________________________________________________________________________________________________\n",
            "conv2d_9 (Conv2D)                                                 (None, 14, 14, 64)                          2112                    max_pooling2d[0][0]                                               \n",
            "________________________________________________________________________________________________________________________________________________________________________________________________________\n",
            "tf.math.multiply_2 (TFOpLambda)                                   (None, 14, 14, 64)                          0                       conv2d_13[0][0]                                                   \n",
            "________________________________________________________________________________________________________________________________________________________________________________________________________\n",
            "tf.__operators__.add_2 (TFOpLambda)                               (None, 14, 14, 64)                          0                       conv2d_9[0][0]                                                    \n",
            "                                                                                                                                      tf.math.multiply_2[0][0]                                          \n",
            "________________________________________________________________________________________________________________________________________________________________________________________________________\n",
            "tf.nn.relu_3 (TFOpLambda)                                         (None, 14, 14, 64)                          0                       tf.__operators__.add_2[0][0]                                      \n",
            "________________________________________________________________________________________________________________________________________________________________________________________________________\n",
            "conv2d_14 (Conv2D)                                                (None, 14, 14, 16)                          9232                    tf.nn.relu_3[0][0]                                                \n",
            "________________________________________________________________________________________________________________________________________________________________________________________________________\n",
            "conv2d_15 (Conv2D)                                                (None, 14, 14, 16)                          2320                    conv2d_14[0][0]                                                   \n",
            "________________________________________________________________________________________________________________________________________________________________________________________________________\n",
            "conv2d_16 (Conv2D)                                                (None, 14, 14, 16)                          2320                    conv2d_15[0][0]                                                   \n",
            "________________________________________________________________________________________________________________________________________________________________________________________________________\n",
            "conv2d_17 (Conv2D)                                                (None, 14, 14, 64)                          1088                    conv2d_16[0][0]                                                   \n",
            "________________________________________________________________________________________________________________________________________________________________________________________________________\n",
            "tf.identity_2 (TFOpLambda)                                        (None, 14, 14, 64)                          0                       tf.__operators__.add_2[0][0]                                      \n",
            "________________________________________________________________________________________________________________________________________________________________________________________________________\n",
            "tf.math.multiply_3 (TFOpLambda)                                   (None, 14, 14, 64)                          0                       conv2d_17[0][0]                                                   \n",
            "________________________________________________________________________________________________________________________________________________________________________________________________________\n",
            "tf.__operators__.add_3 (TFOpLambda)                               (None, 14, 14, 64)                          0                       tf.identity_2[0][0]                                               \n",
            "                                                                                                                                      tf.math.multiply_3[0][0]                                          \n",
            "________________________________________________________________________________________________________________________________________________________________________________________________________\n",
            "max_pooling2d_1 (MaxPooling2D)                                    (None, 7, 7, 64)                            0                       tf.__operators__.add_3[0][0]                                      \n",
            "________________________________________________________________________________________________________________________________________________________________________________________________________\n",
            "tf.nn.relu_4 (TFOpLambda)                                         (None, 7, 7, 64)                            0                       max_pooling2d_1[0][0]                                             \n",
            "________________________________________________________________________________________________________________________________________________________________________________________________________\n",
            "conv2d_19 (Conv2D)                                                (None, 7, 7, 32)                            18464                   tf.nn.relu_4[0][0]                                                \n",
            "________________________________________________________________________________________________________________________________________________________________________________________________________\n",
            "conv2d_20 (Conv2D)                                                (None, 7, 7, 32)                            9248                    conv2d_19[0][0]                                                   \n",
            "________________________________________________________________________________________________________________________________________________________________________________________________________\n",
            "conv2d_21 (Conv2D)                                                (None, 7, 7, 32)                            9248                    conv2d_20[0][0]                                                   \n",
            "________________________________________________________________________________________________________________________________________________________________________________________________________\n",
            "conv2d_22 (Conv2D)                                                (None, 7, 7, 128)                           4224                    conv2d_21[0][0]                                                   \n",
            "________________________________________________________________________________________________________________________________________________________________________________________________________\n",
            "conv2d_18 (Conv2D)                                                (None, 7, 7, 128)                           8320                    max_pooling2d_1[0][0]                                             \n",
            "________________________________________________________________________________________________________________________________________________________________________________________________________\n",
            "tf.math.multiply_4 (TFOpLambda)                                   (None, 7, 7, 128)                           0                       conv2d_22[0][0]                                                   \n",
            "________________________________________________________________________________________________________________________________________________________________________________________________________\n",
            "tf.__operators__.add_4 (TFOpLambda)                               (None, 7, 7, 128)                           0                       conv2d_18[0][0]                                                   \n",
            "                                                                                                                                      tf.math.multiply_4[0][0]                                          \n",
            "________________________________________________________________________________________________________________________________________________________________________________________________________\n",
            "tf.nn.relu_5 (TFOpLambda)                                         (None, 7, 7, 128)                           0                       tf.__operators__.add_4[0][0]                                      \n",
            "________________________________________________________________________________________________________________________________________________________________________________________________________\n",
            "conv2d_23 (Conv2D)                                                (None, 7, 7, 32)                            36896                   tf.nn.relu_5[0][0]                                                \n",
            "________________________________________________________________________________________________________________________________________________________________________________________________________\n",
            "conv2d_24 (Conv2D)                                                (None, 7, 7, 32)                            9248                    conv2d_23[0][0]                                                   \n",
            "________________________________________________________________________________________________________________________________________________________________________________________________________\n",
            "conv2d_25 (Conv2D)                                                (None, 7, 7, 32)                            9248                    conv2d_24[0][0]                                                   \n",
            "________________________________________________________________________________________________________________________________________________________________________________________________________\n",
            "conv2d_26 (Conv2D)                                                (None, 7, 7, 128)                           4224                    conv2d_25[0][0]                                                   \n",
            "________________________________________________________________________________________________________________________________________________________________________________________________________\n",
            "tf.identity_3 (TFOpLambda)                                        (None, 7, 7, 128)                           0                       tf.__operators__.add_4[0][0]                                      \n",
            "________________________________________________________________________________________________________________________________________________________________________________________________________\n",
            "tf.math.multiply_5 (TFOpLambda)                                   (None, 7, 7, 128)                           0                       conv2d_26[0][0]                                                   \n",
            "________________________________________________________________________________________________________________________________________________________________________________________________________\n",
            "tf.__operators__.add_5 (TFOpLambda)                               (None, 7, 7, 128)                           0                       tf.identity_3[0][0]                                               \n",
            "                                                                                                                                      tf.math.multiply_5[0][0]                                          \n",
            "________________________________________________________________________________________________________________________________________________________________________________________________________\n",
            "tf.nn.relu_6 (TFOpLambda)                                         (None, 7, 7, 128)                           0                       tf.__operators__.add_5[0][0]                                      \n",
            "________________________________________________________________________________________________________________________________________________________________________________________________________\n",
            "conv2d_27 (Conv2D)                                                (None, 7, 7, 32)                            4128                    tf.nn.relu_6[0][0]                                                \n",
            "________________________________________________________________________________________________________________________________________________________________________________________________________\n",
            "tf.math.argmax (TFOpLambda)                                       (None, 7, 7)                                0                       conv2d_27[0][0]                                                   \n",
            "________________________________________________________________________________________________________________________________________________________________________________________________________\n",
            "distribution_lambda (DistributionLambda)                          multiple                                    0                       conv2d_27[0][0]                                                   \n",
            "________________________________________________________________________________________________________________________________________________________________________________________________________\n",
            "tf.one_hot (TFOpLambda)                                           (None, 7, 7, 32)                            0                       tf.math.argmax[0][0]                                              \n",
            "________________________________________________________________________________________________________________________________________________________________________________________________________\n",
            "tf.math.subtract (TFOpLambda)                                     (None, 7, 7, 32)                            0                       tf.one_hot[0][0]                                                  \n",
            "                                                                                                                                      distribution_lambda[0][0]                                         \n",
            "________________________________________________________________________________________________________________________________________________________________________________________________________\n",
            "tf.stop_gradient (TFOpLambda)                                     (None, 7, 7, 32)                            0                       tf.math.subtract[0][0]                                            \n",
            "________________________________________________________________________________________________________________________________________________________________________________________________________\n",
            "tf.__operators__.add_12 (TFOpLambda)                              (None, 7, 7, 32)                            0                       distribution_lambda[0][0]                                         \n",
            "                                                                                                                                      tf.stop_gradient[0][0]                                            \n",
            "________________________________________________________________________________________________________________________________________________________________________________________________________\n",
            "model_1 (Functional)                                              (None, 28, 28, 1)                           167457                  tf.__operators__.add_12[0][0]                                     \n",
            "========================================================================================================================================================================================================\n",
            "Total params: 317,265\n",
            "Trainable params: 317,265\n",
            "Non-trainable params: 0\n",
            "________________________________________________________________________________________________________________________________________________________________________________________________________\n"
          ],
          "name": "stdout"
        }
      ]
    },
    {
      "cell_type": "code",
      "metadata": {
        "colab": {
          "base_uri": "https://localhost:8080/"
        },
        "id": "rkMKjo1QHSuf",
        "outputId": "b7095213-df15-4443-811c-92b8e46141fb"
      },
      "source": [
        "vae.compile(loss='mse', optimizer='adam')\n",
        "\n",
        "vae.fit(x_train, x_train,\n",
        "        validation_data=(x_test, x_test),\n",
        "        epochs=1,\n",
        "        batch_size=32,\n",
        "        shuffle=True)"
      ],
      "execution_count": 5,
      "outputs": [
        {
          "output_type": "stream",
          "text": [
            "1875/1875 [==============================] - 41s 17ms/step - loss: 0.0331 - val_loss: 0.0094\n"
          ],
          "name": "stdout"
        },
        {
          "output_type": "execute_result",
          "data": {
            "text/plain": [
              "<tensorflow.python.keras.callbacks.History at 0x7fd800316750>"
            ]
          },
          "metadata": {
            "tags": []
          },
          "execution_count": 5
        }
      ]
    },
    {
      "cell_type": "code",
      "metadata": {
        "colab": {
          "base_uri": "https://localhost:8080/",
          "height": 264
        },
        "id": "0vO78eX8HYgg",
        "outputId": "e94b845c-a4c5-401d-ecd5-338edffcb9c2"
      },
      "source": [
        "plot_reconstructions(vae(x_test[:10]), x_test[:10])"
      ],
      "execution_count": 7,
      "outputs": [
        {
          "output_type": "display_data",
          "data": {
            "image/png": "[encoded data removed]",
            "text/plain": [
              "<Figure size 1440x288 with 20 Axes>"
            ]
          },
          "metadata": {
            "tags": [],
            "needs_background": "light"
          }
        }
      ]
    },
    {
      "cell_type": "code",
      "metadata": {
        "id": "N0OekzeGwVkx"
      },
      "source": [
        ""
      ],
      "execution_count": null,
      "outputs": []
    }
  ]
}