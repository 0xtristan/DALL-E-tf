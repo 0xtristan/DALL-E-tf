{
  "nbformat": 4,
  "nbformat_minor": 0,
  "metadata": {
    "colab": {
      "name": "MNIST_demo.ipynb",
      "provenance": [],
      "collapsed_sections": [],
      "authorship_tag": "ABX9TyNPPWiVkKllTqkh5w/ONqPP",
      "include_colab_link": true
    },
    "kernelspec": {
      "name": "python3",
      "display_name": "Python 3"
    },
    "accelerator": "GPU"
  },
  "cells": [
    {
      "cell_type": "markdown",
      "metadata": {
        "id": "view-in-github",
        "colab_type": "text"
      },
      "source": [
        "<a href=\"https://colab.research.google.com/github/tfrizza/DALL-E-tf/blob/main/MNIST_demo.ipynb\" target=\"_parent\"><img src=\"https://colab.research.google.com/assets/colab-badge.svg\" alt=\"Open In Colab\"/></a>"
      ]
    },
    {
      "cell_type": "code",
      "metadata": {
        "colab": {
          "base_uri": "https://localhost:8080/"
        },
        "id": "REUXOG_8HcnI",
        "outputId": "c1aec59d-e05c-497e-e7f1-0c3c265b686a"
      },
      "source": [
        "!git clone https://github.com/tfrizza/DALL-E-tf.git"
      ],
      "execution_count": 37,
      "outputs": [
        {
          "output_type": "stream",
          "text": [
            "Cloning into 'DALL-E-tf'...\n",
            "remote: Enumerating objects: 28, done.\u001b[K\n",
            "remote: Counting objects: 100% (28/28), done.\u001b[K\n",
            "remote: Compressing objects: 100% (17/17), done.\u001b[K\n",
            "remote: Total 28 (delta 12), reused 21 (delta 9), pack-reused 0\u001b[K\n",
            "Unpacking objects: 100% (28/28), done.\n"
          ],
          "name": "stdout"
        }
      ]
    },
    {
      "cell_type": "code",
      "metadata": {
        "colab": {
          "base_uri": "https://localhost:8080/"
        },
        "id": "v1zzTQFoHpXQ",
        "outputId": "1b73a440-fbbd-4153-d632-c76ab94737a3"
      },
      "source": [
        "%cd DALL-E-tf"
      ],
      "execution_count": 39,
      "outputs": [
        {
          "output_type": "stream",
          "text": [
            "/content/DALL-E-tf\n"
          ],
          "name": "stdout"
        }
      ]
    },
    {
      "cell_type": "code",
      "metadata": {
        "colab": {
          "base_uri": "https://localhost:8080/"
        },
        "id": "pM7fOhafHJxA",
        "outputId": "12ef7dec-1efd-4aff-f91f-1933d008bb4e"
      },
      "source": [
        "import tensorflow as tf\n",
        "from tensorflow.keras import Model\n",
        "\n",
        "import tensorflow_probability as tfp\n",
        "from tensorflow_probability import distributions as tfd\n",
        "from tensorflow_probability import layers as tfpl\n",
        "\n",
        "from dall_e_tf.encoder import dvae_encoder\n",
        "from dall_e_tf.decoder import dvae_decoder\n",
        "from dall_e_tf.utils import plot_reconstructions\n",
        "\n",
        "(x_train, _), (x_test, _) = tf.keras.datasets.mnist.load_data()\n",
        "\n",
        "# Scale images to the [0, 1] range\n",
        "x_train = x_train.astype(\"float32\") / 255\n",
        "x_test = x_test.astype(\"float32\") / 255\n",
        "# Make sure images have shape (28, 28, 1)\n",
        "x_train = tf.expand_dims(x_train, -1)\n",
        "x_test = tf.expand_dims(x_test, -1)\n",
        "print(\"x_train shape:\", x_train.shape)\n",
        "print(x_train.shape[0], \"train samples\")\n",
        "print(x_test.shape[0], \"test samples\")"
      ],
      "execution_count": 52,
      "outputs": [
        {
          "output_type": "stream",
          "text": [
            "x_train shape: (60000, 28, 28, 1)\n",
            "60000 train samples\n",
            "10000 test samples\n"
          ],
          "name": "stdout"
        }
      ]
    },
    {
      "cell_type": "code",
      "metadata": {
        "colab": {
          "base_uri": "https://localhost:8080/"
        },
        "id": "iQJDxNXwHUrV",
        "outputId": "ba5152b2-af0f-43c4-bb3c-ccdf4625681a"
      },
      "source": [
        "vocab_size = 32\n",
        "n_hid = 32\n",
        "\n",
        "enc = dvae_encoder(group_count=2, n_hid=n_hid, n_blk_per_group=2, input_channels=x_train.shape[-1], vocab_size=vocab_size)\n",
        "dec = dvae_decoder(group_count=2, n_init=n_hid//2, n_hid=n_hid, n_blk_per_group=2, output_channels=x_train.shape[-1], vocab_size=vocab_size)\n",
        "\n",
        "def dVAE(enc, dec, temperature=1/16):\n",
        "    z_e = enc.output # encoder logits\n",
        "\n",
        "    z_q = tfpl.DistributionLambda(\n",
        "        lambda logits: tfd.RelaxedOneHotCategorical(temperature, logits) # Gumbel-softmax\n",
        "    )(z_e)\n",
        "\n",
        "    z_hard = tf.math.argmax(z_e, axis=-1) # non-differentiable\n",
        "    z_hard = tf.one_hot(z_hard, enc.output.shape[-1], dtype=tf.float32)\n",
        "\n",
        "    z = z_q + tf.stop_gradient(z_hard - z_q) # straight-through Gumbel-softmax\n",
        "    x_rec = dec(z)\n",
        "    return Model(enc.input, x_rec)\n",
        "\n",
        "vae = dVAE(enc, dec, 1)\n",
        "vae.summary(line_length=200)"
      ],
      "execution_count": 83,
      "outputs": [
        {
          "output_type": "stream",
          "text": [
            "Model: \"model_49\"\n",
            "________________________________________________________________________________________________________________________________________________________________________________________________________\n",
            "Layer (type)                                                      Output Shape                                Param #                 Connected to                                                      \n",
            "========================================================================================================================================================================================================\n",
            "input_37 (InputLayer)                                             [(None, None, None, 1)]                     0                                                                                         \n",
            "________________________________________________________________________________________________________________________________________________________________________________________________________\n",
            "conv2d_702 (Conv2D)                                               (None, None, None, 32)                      1600                    input_37[0][0]                                                    \n",
            "________________________________________________________________________________________________________________________________________________________________________________________________________\n",
            "tf.nn.relu_396 (TFOpLambda)                                       (None, None, None, 32)                      0                       conv2d_702[0][0]                                                  \n",
            "________________________________________________________________________________________________________________________________________________________________________________________________________\n",
            "conv2d_703 (Conv2D)                                               (None, None, None, 8)                       2312                    tf.nn.relu_396[0][0]                                              \n",
            "________________________________________________________________________________________________________________________________________________________________________________________________________\n",
            "conv2d_704 (Conv2D)                                               (None, None, None, 8)                       584                     conv2d_703[0][0]                                                  \n",
            "________________________________________________________________________________________________________________________________________________________________________________________________________\n",
            "conv2d_705 (Conv2D)                                               (None, None, None, 8)                       584                     conv2d_704[0][0]                                                  \n",
            "________________________________________________________________________________________________________________________________________________________________________________________________________\n",
            "conv2d_706 (Conv2D)                                               (None, None, None, 32)                      288                     conv2d_705[0][0]                                                  \n",
            "________________________________________________________________________________________________________________________________________________________________________________________________________\n",
            "tf.identity_90 (TFOpLambda)                                       (None, None, None, 32)                      0                       conv2d_702[0][0]                                                  \n",
            "________________________________________________________________________________________________________________________________________________________________________________________________________\n",
            "tf.math.multiply_144 (TFOpLambda)                                 (None, None, None, 32)                      0                       conv2d_706[0][0]                                                  \n",
            "________________________________________________________________________________________________________________________________________________________________________________________________________\n",
            "tf.__operators__.add_150 (TFOpLambda)                             (None, None, None, 32)                      0                       tf.identity_90[0][0]                                              \n",
            "                                                                                                                                      tf.math.multiply_144[0][0]                                        \n",
            "________________________________________________________________________________________________________________________________________________________________________________________________________\n",
            "tf.nn.relu_397 (TFOpLambda)                                       (None, None, None, 32)                      0                       tf.__operators__.add_150[0][0]                                    \n",
            "________________________________________________________________________________________________________________________________________________________________________________________________________\n",
            "conv2d_707 (Conv2D)                                               (None, None, None, 8)                       2312                    tf.nn.relu_397[0][0]                                              \n",
            "________________________________________________________________________________________________________________________________________________________________________________________________________\n",
            "conv2d_708 (Conv2D)                                               (None, None, None, 8)                       584                     conv2d_707[0][0]                                                  \n",
            "________________________________________________________________________________________________________________________________________________________________________________________________________\n",
            "conv2d_709 (Conv2D)                                               (None, None, None, 8)                       584                     conv2d_708[0][0]                                                  \n",
            "________________________________________________________________________________________________________________________________________________________________________________________________________\n",
            "conv2d_710 (Conv2D)                                               (None, None, None, 32)                      288                     conv2d_709[0][0]                                                  \n",
            "________________________________________________________________________________________________________________________________________________________________________________________________________\n",
            "tf.identity_91 (TFOpLambda)                                       (None, None, None, 32)                      0                       tf.__operators__.add_150[0][0]                                    \n",
            "________________________________________________________________________________________________________________________________________________________________________________________________________\n",
            "tf.math.multiply_145 (TFOpLambda)                                 (None, None, None, 32)                      0                       conv2d_710[0][0]                                                  \n",
            "________________________________________________________________________________________________________________________________________________________________________________________________________\n",
            "tf.__operators__.add_151 (TFOpLambda)                             (None, None, None, 32)                      0                       tf.identity_91[0][0]                                              \n",
            "                                                                                                                                      tf.math.multiply_145[0][0]                                        \n",
            "________________________________________________________________________________________________________________________________________________________________________________________________________\n",
            "max_pooling2d_18 (MaxPooling2D)                                   (None, None, None, 32)                      0                       tf.__operators__.add_151[0][0]                                    \n",
            "________________________________________________________________________________________________________________________________________________________________________________________________________\n",
            "tf.nn.relu_398 (TFOpLambda)                                       (None, None, None, 32)                      0                       max_pooling2d_18[0][0]                                            \n",
            "________________________________________________________________________________________________________________________________________________________________________________________________________\n",
            "conv2d_712 (Conv2D)                                               (None, None, None, 16)                      4624                    tf.nn.relu_398[0][0]                                              \n",
            "________________________________________________________________________________________________________________________________________________________________________________________________________\n",
            "conv2d_713 (Conv2D)                                               (None, None, None, 16)                      2320                    conv2d_712[0][0]                                                  \n",
            "________________________________________________________________________________________________________________________________________________________________________________________________________\n",
            "conv2d_714 (Conv2D)                                               (None, None, None, 16)                      2320                    conv2d_713[0][0]                                                  \n",
            "________________________________________________________________________________________________________________________________________________________________________________________________________\n",
            "conv2d_715 (Conv2D)                                               (None, None, None, 64)                      1088                    conv2d_714[0][0]                                                  \n",
            "________________________________________________________________________________________________________________________________________________________________________________________________________\n",
            "conv2d_711 (Conv2D)                                               (None, None, None, 64)                      2112                    max_pooling2d_18[0][0]                                            \n",
            "________________________________________________________________________________________________________________________________________________________________________________________________________\n",
            "tf.math.multiply_146 (TFOpLambda)                                 (None, None, None, 64)                      0                       conv2d_715[0][0]                                                  \n",
            "________________________________________________________________________________________________________________________________________________________________________________________________________\n",
            "tf.__operators__.add_152 (TFOpLambda)                             (None, None, None, 64)                      0                       conv2d_711[0][0]                                                  \n",
            "                                                                                                                                      tf.math.multiply_146[0][0]                                        \n",
            "________________________________________________________________________________________________________________________________________________________________________________________________________\n",
            "tf.nn.relu_399 (TFOpLambda)                                       (None, None, None, 64)                      0                       tf.__operators__.add_152[0][0]                                    \n",
            "________________________________________________________________________________________________________________________________________________________________________________________________________\n",
            "conv2d_716 (Conv2D)                                               (None, None, None, 16)                      9232                    tf.nn.relu_399[0][0]                                              \n",
            "________________________________________________________________________________________________________________________________________________________________________________________________________\n",
            "conv2d_717 (Conv2D)                                               (None, None, None, 16)                      2320                    conv2d_716[0][0]                                                  \n",
            "________________________________________________________________________________________________________________________________________________________________________________________________________\n",
            "conv2d_718 (Conv2D)                                               (None, None, None, 16)                      2320                    conv2d_717[0][0]                                                  \n",
            "________________________________________________________________________________________________________________________________________________________________________________________________________\n",
            "conv2d_719 (Conv2D)                                               (None, None, None, 64)                      1088                    conv2d_718[0][0]                                                  \n",
            "________________________________________________________________________________________________________________________________________________________________________________________________________\n",
            "tf.identity_92 (TFOpLambda)                                       (None, None, None, 64)                      0                       tf.__operators__.add_152[0][0]                                    \n",
            "________________________________________________________________________________________________________________________________________________________________________________________________________\n",
            "tf.math.multiply_147 (TFOpLambda)                                 (None, None, None, 64)                      0                       conv2d_719[0][0]                                                  \n",
            "________________________________________________________________________________________________________________________________________________________________________________________________________\n",
            "tf.__operators__.add_153 (TFOpLambda)                             (None, None, None, 64)                      0                       tf.identity_92[0][0]                                              \n",
            "                                                                                                                                      tf.math.multiply_147[0][0]                                        \n",
            "________________________________________________________________________________________________________________________________________________________________________________________________________\n",
            "tf.nn.relu_400 (TFOpLambda)                                       (None, None, None, 64)                      0                       tf.__operators__.add_153[0][0]                                    \n",
            "________________________________________________________________________________________________________________________________________________________________________________________________________\n",
            "conv2d_720 (Conv2D)                                               (None, None, None, 32)                      2080                    tf.nn.relu_400[0][0]                                              \n",
            "________________________________________________________________________________________________________________________________________________________________________________________________________\n",
            "tf.math.argmax_5 (TFOpLambda)                                     (None, None, None)                          0                       conv2d_720[0][0]                                                  \n",
            "________________________________________________________________________________________________________________________________________________________________________________________________________\n",
            "distribution_lambda_9 (DistributionLambda)                        multiple                                    0                       conv2d_720[0][0]                                                  \n",
            "________________________________________________________________________________________________________________________________________________________________________________________________________\n",
            "tf.one_hot_5 (TFOpLambda)                                         (None, None, None, 32)                      0                       tf.math.argmax_5[0][0]                                            \n",
            "________________________________________________________________________________________________________________________________________________________________________________________________________\n",
            "tf.math.subtract_6 (TFOpLambda)                                   (None, None, None, 32)                      0                       tf.one_hot_5[0][0]                                                \n",
            "                                                                                                                                      distribution_lambda_9[0][0]                                       \n",
            "________________________________________________________________________________________________________________________________________________________________________________________________________\n",
            "tf.stop_gradient_6 (TFOpLambda)                                   (None, None, None, 32)                      0                       tf.math.subtract_6[0][0]                                          \n",
            "________________________________________________________________________________________________________________________________________________________________________________________________________\n",
            "tf.__operators__.add_158 (TFOpLambda)                             (None, None, None, 32)                      0                       distribution_lambda_9[0][0]                                       \n",
            "                                                                                                                                      tf.stop_gradient_6[0][0]                                          \n",
            "________________________________________________________________________________________________________________________________________________________________________________________________________\n",
            "model_48 (Functional)                                             (None, None, None, 1)                       40673                   tf.__operators__.add_158[0][0]                                    \n",
            "========================================================================================================================================================================================================\n",
            "Total params: 79,313\n",
            "Trainable params: 79,313\n",
            "Non-trainable params: 0\n",
            "________________________________________________________________________________________________________________________________________________________________________________________________________\n"
          ],
          "name": "stdout"
        }
      ]
    },
    {
      "cell_type": "code",
      "metadata": {
        "colab": {
          "base_uri": "https://localhost:8080/"
        },
        "id": "rkMKjo1QHSuf",
        "outputId": "7de9f6f4-3e69-427e-c2a5-43ffddf40e4e"
      },
      "source": [
        "vae.compile(loss='mse', optimizer='adam')\n",
        "\n",
        "vae.fit(x_train, x_train,\n",
        "        validation_data=(x_test, x_test),\n",
        "        # steps_per_epoch=10,\n",
        "        epochs=1,\n",
        "        batch_size=32,\n",
        "        shuffle=True)"
      ],
      "execution_count": 84,
      "outputs": [
        {
          "output_type": "stream",
          "text": [
            "1875/1875 [==============================] - 23s 11ms/step - loss: 0.0224 - val_loss: 0.0031\n"
          ],
          "name": "stdout"
        },
        {
          "output_type": "execute_result",
          "data": {
            "text/plain": [
              "<tensorflow.python.keras.callbacks.History at 0x7f89797cad90>"
            ]
          },
          "metadata": {
            "tags": []
          },
          "execution_count": 84
        }
      ]
    },
    {
      "cell_type": "code",
      "metadata": {
        "colab": {
          "base_uri": "https://localhost:8080/",
          "height": 264
        },
        "id": "0vO78eX8HYgg",
        "outputId": "abc690cb-2648-4bb1-bf0c-f8f9d09464f9"
      },
      "source": [
        "plot_reconstructions(vae, x_test[:10])"
      ],
      "execution_count": 85,
      "outputs": [
        {
          "output_type": "display_data",
          "data": {
            "image/png": "[encoded data removed]",
            "text/plain": [
              "<Figure size 1440x288 with 20 Axes>"
            ]
          },
          "metadata": {
            "tags": [],
            "needs_background": "light"
          }
        }
      ]
    },
    {
      "cell_type": "code",
      "metadata": {
        "id": "6U1F3a-dDsmu"
      },
      "source": [
        ""
      ],
      "execution_count": null,
      "outputs": []
    }
  ]
}